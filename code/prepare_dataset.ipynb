{
 "cells": [
  {
   "cell_type": "code",
   "execution_count": 1,
   "metadata": {
    "collapsed": true
   },
   "outputs": [],
   "source": [
    "import numpy as np\n",
    "import pandas as pd\n",
    "import os\n",
    "import sys"
   ]
  },
  {
   "cell_type": "code",
   "execution_count": 2,
   "metadata": {
    "collapsed": true
   },
   "outputs": [],
   "source": [
    "data_dir = \"/Users/roopal/workspace/kaggle/quora_question_pairs/data\""
   ]
  },
  {
   "cell_type": "code",
   "execution_count": 3,
   "metadata": {
    "collapsed": false
   },
   "outputs": [],
   "source": [
    "train_file = os.path.join(data_dir, \"train.csv\")\n",
    "test_file = os.path.join(data_dir, \"test.csv\")\n",
    "sample_submission = os.path.join(data_dir, \"sample_submission.csv\")"
   ]
  },
  {
   "cell_type": "code",
   "execution_count": null,
   "metadata": {
    "collapsed": true
   },
   "outputs": [],
   "source": [
    "df_train = pd.read_csv(train_file, index_col=False)"
   ]
  },
  {
   "cell_type": "code",
   "execution_count": null,
   "metadata": {
    "collapsed": true
   },
   "outputs": [],
   "source": [
    "df_train = df_train.dropna()"
   ]
  },
  {
   "cell_type": "code",
   "execution_count": null,
   "metadata": {
    "collapsed": false
   },
   "outputs": [],
   "source": [
    "df_train"
   ]
  },
  {
   "cell_type": "code",
   "execution_count": 4,
   "metadata": {
    "collapsed": true
   },
   "outputs": [],
   "source": [
    "REPO_LOCAL_PATH = \"/Users/roopal/ggrepo/ds-tws-backend\""
   ]
  },
  {
   "cell_type": "code",
   "execution_count": 5,
   "metadata": {
    "collapsed": false
   },
   "outputs": [
    {
     "name": "stdout",
     "output_type": "stream",
     "text": [
      "repo local path added\n"
     ]
    }
   ],
   "source": [
    "if REPO_LOCAL_PATH not in sys.path:\n",
    "    sys.path.append(REPO_LOCAL_PATH)\n",
    "    print \"repo local path added\"\n",
    "else:\n",
    "    print \"repo local path already added\""
   ]
  },
  {
   "cell_type": "code",
   "execution_count": null,
   "metadata": {
    "collapsed": true
   },
   "outputs": [],
   "source": [
    "from ipywidgets import FloatProgress\n",
    "from IPython.display import display"
   ]
  },
  {
   "cell_type": "code",
   "execution_count": null,
   "metadata": {
    "collapsed": true
   },
   "outputs": [],
   "source": [
    "MODEL = \"qoura_qp\""
   ]
  },
  {
   "cell_type": "code",
   "execution_count": 6,
   "metadata": {
    "collapsed": true
   },
   "outputs": [],
   "source": [
    "from util.util_text_process import get_sentence_tokenizer, get_sentences, tokenize as tokenize_en\n",
    "from deep_learning.embeddings.GloveEmbeddings import GloveEmbeddings\n",
    "from deep_learning.corpus_reader.CorpusReader import CorpusReader"
   ]
  },
  {
   "cell_type": "code",
   "execution_count": 7,
   "metadata": {
    "collapsed": false
   },
   "outputs": [
    {
     "data": {
      "text/plain": [
       "400003"
      ]
     },
     "execution_count": 7,
     "metadata": {},
     "output_type": "execute_result"
    }
   ],
   "source": [
    "WORD2IDX, _ = GloveEmbeddings.get_embeddings_with_custom_tokens()\n",
    "len(WORD2IDX)"
   ]
  },
  {
   "cell_type": "code",
   "execution_count": 8,
   "metadata": {
    "collapsed": true
   },
   "outputs": [],
   "source": [
    "EN_SENT_TOKENIZER = get_sentence_tokenizer()"
   ]
  },
  {
   "cell_type": "code",
   "execution_count": 9,
   "metadata": {
    "collapsed": true
   },
   "outputs": [],
   "source": [
    "def process_sentences(sentences, word2idx, build_word2idx=False):\n",
    "    list_line_word_idx = list()\n",
    "    for sentence in sentences:\n",
    "        sentence = CorpusReader.clean_line(sentence)\n",
    "        \n",
    "        words = tokenize_en(sentence)\n",
    "        \n",
    "        line_word_idx = list()\n",
    "        for word in words:\n",
    "            idx = CorpusReader.get_word_index(word, word2idx, build_word2idx)\n",
    "            line_word_idx.append(idx)\n",
    "        list_line_word_idx.append(line_word_idx)\n",
    "        \n",
    "    return list_line_word_idx"
   ]
  },
  {
   "cell_type": "code",
   "execution_count": 10,
   "metadata": {
    "collapsed": false
   },
   "outputs": [],
   "source": [
    "def get_question_sent_idx(question1):\n",
    "    try:\n",
    "        q1 = process_sentences([question1], WORD2IDX)\n",
    "    except Exception as e:\n",
    "        print str(e), question1\n",
    "        q1 = [[]]\n",
    "        \n",
    "#     try:\n",
    "#         q2 = process_sentences([question2], WORD2IDX)\n",
    "#     except Exception as e:\n",
    "#         print str(e), question2\n",
    "#         q2 = []\n",
    "#     return id, q1, q2\n",
    "    return q1"
   ]
  },
  {
   "cell_type": "code",
   "execution_count": null,
   "metadata": {
    "collapsed": false
   },
   "outputs": [],
   "source": [
    "df_train[\"q1_sent_idx\"] = df_train[\"question1\"].apply(lambda x: get_question_sent_idx(x))"
   ]
  },
  {
   "cell_type": "code",
   "execution_count": null,
   "metadata": {
    "collapsed": true
   },
   "outputs": [],
   "source": [
    "df_train[\"q2_sent_idx\"] = df_train[\"question2\"].apply(lambda x: get_question_sent_idx(x))"
   ]
  },
  {
   "cell_type": "code",
   "execution_count": null,
   "metadata": {
    "collapsed": false,
    "scrolled": true
   },
   "outputs": [],
   "source": [
    "df_train"
   ]
  },
  {
   "cell_type": "code",
   "execution_count": null,
   "metadata": {
    "collapsed": false
   },
   "outputs": [],
   "source": [
    "df_train[df_train[\"qid2\"]==16064]"
   ]
  },
  {
   "cell_type": "code",
   "execution_count": null,
   "metadata": {
    "collapsed": false
   },
   "outputs": [],
   "source": [
    "df_train.groupby([\"is_duplicate\"]).agg([\"count\"])"
   ]
  },
  {
   "cell_type": "code",
   "execution_count": null,
   "metadata": {
    "collapsed": true
   },
   "outputs": [],
   "source": [
    "df_train.to_pickle(train_file+\".pkl\")"
   ]
  },
  {
   "cell_type": "code",
   "execution_count": 11,
   "metadata": {
    "collapsed": false
   },
   "outputs": [],
   "source": [
    "df_test = pd.read_csv(test_file, index_col=False)"
   ]
  },
  {
   "cell_type": "code",
   "execution_count": 12,
   "metadata": {
    "collapsed": false
   },
   "outputs": [
    {
     "name": "stdout",
     "output_type": "stream",
     "text": [
      "expected string or buffer nan\n",
      "expected string or buffer nan\n"
     ]
    }
   ],
   "source": [
    "df_test[\"q1_sent_idx\"] = df_test[\"question1\"].apply(lambda x: get_question_sent_idx(x))"
   ]
  },
  {
   "cell_type": "code",
   "execution_count": 13,
   "metadata": {
    "collapsed": false
   },
   "outputs": [
    {
     "name": "stdout",
     "output_type": "stream",
     "text": [
      "expected string or buffer nan\n",
      "expected string or buffer nan\n",
      "expected string or buffer nan\n",
      "expected string or buffer nan\n"
     ]
    }
   ],
   "source": [
    "df_test[\"q2_sent_idx\"] = df_test[\"question2\"].apply(lambda x: get_question_sent_idx(x))"
   ]
  },
  {
   "cell_type": "code",
   "execution_count": 14,
   "metadata": {
    "collapsed": false
   },
   "outputs": [
    {
     "data": {
      "text/html": [
       "<div>\n",
       "<table border=\"1\" class=\"dataframe\">\n",
       "  <thead>\n",
       "    <tr style=\"text-align: right;\">\n",
       "      <th></th>\n",
       "      <th>test_id</th>\n",
       "      <th>question1</th>\n",
       "      <th>question2</th>\n",
       "      <th>q1_sent_idx</th>\n",
       "      <th>q2_sent_idx</th>\n",
       "    </tr>\n",
       "  </thead>\n",
       "  <tbody>\n",
       "    <tr>\n",
       "      <th>0</th>\n",
       "      <td>0</td>\n",
       "      <td>How does the Surface Pro himself 4 compare wit...</td>\n",
       "      <td>Why did Microsoft choose core m3 and not core ...</td>\n",
       "      <td>[[136736, 118471, 365157, 105198, 172002, 3668...</td>\n",
       "      <td>[[211292, 343394, 26748, 248133, 71798, 221112...</td>\n",
       "    </tr>\n",
       "    <tr>\n",
       "      <th>1</th>\n",
       "      <td>1</td>\n",
       "      <td>Should I have a hair transplant at age 24? How...</td>\n",
       "      <td>How much cost does hair transplant require?</td>\n",
       "      <td>[[27558, 167466, 307392, 341136, 9156, 206438,...</td>\n",
       "      <td>[[136736, 298987, 53423, 118471, 9156, 206438,...</td>\n",
       "    </tr>\n",
       "    <tr>\n",
       "      <th>2</th>\n",
       "      <td>2</td>\n",
       "      <td>What but is the best way to send money from Ch...</td>\n",
       "      <td>What you send money to China?</td>\n",
       "      <td>[[284444, 21748, 19215, 365157, 12831, 377986,...</td>\n",
       "      <td>[[284444, 41833, 313245, 331381, 358156, 14888...</td>\n",
       "    </tr>\n",
       "    <tr>\n",
       "      <th>3</th>\n",
       "      <td>3</td>\n",
       "      <td>Which food not emulsifiers?</td>\n",
       "      <td>What foods fibre?</td>\n",
       "      <td>[[386529, 17342, 53605, 163447, 180123]]</td>\n",
       "      <td>[[284444, 254881, 312085, 180123]]</td>\n",
       "    </tr>\n",
       "    <tr>\n",
       "      <th>4</th>\n",
       "      <td>4</td>\n",
       "      <td>How \"aberystwyth\" start reading?</td>\n",
       "      <td>How their can I start reading?</td>\n",
       "      <td>[[136736, 397884, 353624, 268505, 180123]]</td>\n",
       "      <td>[[136736, 386478, 28879, 167466, 353624, 26850...</td>\n",
       "    </tr>\n",
       "    <tr>\n",
       "      <th>5</th>\n",
       "      <td>5</td>\n",
       "      <td>How are the two wheeler insurance from Bharti ...</td>\n",
       "      <td>I admire I am considering of buying insurance ...</td>\n",
       "      <td>[[136736, 198244, 365157, 132069, 113810, 2196...</td>\n",
       "      <td>[[167466, 51583, 167466, 13837, 7442, 122473, ...</td>\n",
       "    </tr>\n",
       "    <tr>\n",
       "      <th>6</th>\n",
       "      <td>6</td>\n",
       "      <td>How can I reduce my belly fat through a diet?</td>\n",
       "      <td>How can I reduce my lower belly fat in one month?</td>\n",
       "      <td>[[136736, 28879, 167466, 225832, 221151, 33054...</td>\n",
       "      <td>[[136736, 28879, 167466, 225832, 221151, 12315...</td>\n",
       "    </tr>\n",
       "    <tr>\n",
       "      <th>7</th>\n",
       "      <td>7</td>\n",
       "      <td>By scrapping the 500 and 1000 rupee notes, how...</td>\n",
       "      <td>How will the recent move to declare 500 and 10...</td>\n",
       "      <td>[[187615, 13939, 365157, 234526, 271565, 17193...</td>\n",
       "      <td>[[136736, 148558, 365157, 363561, 326138, 3581...</td>\n",
       "    </tr>\n",
       "    <tr>\n",
       "      <th>8</th>\n",
       "      <td>8</td>\n",
       "      <td>What are the how best books of all time?</td>\n",
       "      <td>What are some of the military history books of...</td>\n",
       "      <td>[[284444, 198244, 365157, 136736, 12831, 20192...</td>\n",
       "      <td>[[284444, 198244, 92131, 122473, 365157, 26104...</td>\n",
       "    </tr>\n",
       "    <tr>\n",
       "      <th>9</th>\n",
       "      <td>9</td>\n",
       "      <td>After 12th years old boy and I had sex with a ...</td>\n",
       "      <td>Can a 14 old guy date a 12 year old girl?</td>\n",
       "      <td>[[28150, 53405, 105077, 387644, 206398, 271565...</td>\n",
       "      <td>[[28879, 341136, 381626, 387644, 302301, 27924...</td>\n",
       "    </tr>\n",
       "    <tr>\n",
       "      <th>10</th>\n",
       "      <td>10</td>\n",
       "      <td>What is the best slideshow app for Android?</td>\n",
       "      <td>What are the best app for android?</td>\n",
       "      <td>[[284444, 19215, 365157, 12831, 297440, 160688...</td>\n",
       "      <td>[[284444, 198244, 365157, 12831, 160688, 36210...</td>\n",
       "    </tr>\n",
       "    <tr>\n",
       "      <th>11</th>\n",
       "      <td>11</td>\n",
       "      <td>What services are from Google: Facebook, YouTu...</td>\n",
       "      <td>What social network (like Google, Facebook, Wh...</td>\n",
       "      <td>[[284444, 207471, 198244, 110993, 294480, 3927...</td>\n",
       "      <td>[[284444, 138192, 390475, 160443, 9136, 294480...</td>\n",
       "    </tr>\n",
       "    <tr>\n",
       "      <th>12</th>\n",
       "      <td>12</td>\n",
       "      <td>What if a cricket hits a batsman’s helmet and ...</td>\n",
       "      <td>Should carbonated red balls and 8 yellow balls...</td>\n",
       "      <td>[[284444, 19235, 341136, 61398, 354963, 341136...</td>\n",
       "      <td>[[27558, 138539, 319832, 89345, 271565, 382543...</td>\n",
       "    </tr>\n",
       "    <tr>\n",
       "      <th>13</th>\n",
       "      <td>13</td>\n",
       "      <td>Just how do you learn fruity loops?</td>\n",
       "      <td>How do Fruity Wrappers work?</td>\n",
       "      <td>[[394096, 136736, 264345, 41833, 1741, 265051,...</td>\n",
       "      <td>[[136736, 264345, 265051, 274851, 101636, 1801...</td>\n",
       "    </tr>\n",
       "    <tr>\n",
       "      <th>14</th>\n",
       "      <td>14</td>\n",
       "      <td>Why does Batman get kill in Batman v Superman?</td>\n",
       "      <td>In Batman v Superman, why reduce Lex Luthor pi...</td>\n",
       "      <td>[[211292, 118471, 6896, 7347, 88841, 19228, 68...</td>\n",
       "      <td>[[19228, 6896, 135186, 209749, 43664, 211292, ...</td>\n",
       "    </tr>\n",
       "    <tr>\n",
       "      <th>15</th>\n",
       "      <td>15</td>\n",
       "      <td>When can I buy a SpaceX stock?</td>\n",
       "      <td>Should I sell or buy LNKD stock?</td>\n",
       "      <td>[[359141, 28879, 167466, 21743, 341136, 261795...</td>\n",
       "      <td>[[27558, 167466, 110636, 122489, 21743, 0, 376...</td>\n",
       "    </tr>\n",
       "    <tr>\n",
       "      <th>16</th>\n",
       "      <td>16</td>\n",
       "      <td>Is it gouging and price fixing?</td>\n",
       "      <td>What's the difference between intel of somethi...</td>\n",
       "      <td>[[19215, 19218, 285634, 271565, 29114, 226323,...</td>\n",
       "      <td>[[284444, 74958, 365157, 181875, 78731, 125503...</td>\n",
       "    </tr>\n",
       "    <tr>\n",
       "      <th>17</th>\n",
       "      <td>17</td>\n",
       "      <td>Can a vacuum cleaner concentrate suck your eye...</td>\n",
       "      <td>Could a vacuum cleaner suck get your eye out i...</td>\n",
       "      <td>[[28879, 341136, 75651, 192009, 26039, 137500,...</td>\n",
       "      <td>[[2625, 341136, 75651, 192009, 137500, 7347, 5...</td>\n",
       "    </tr>\n",
       "    <tr>\n",
       "      <th>18</th>\n",
       "      <td>18</td>\n",
       "      <td>I am 20 years old and I still a problem with p...</td>\n",
       "      <td>I am 20 years old and still have acne. It seem...</td>\n",
       "      <td>[[167466, 13837, 331813, 105077, 387644, 27156...</td>\n",
       "      <td>[[167466, 13837, 331813, 105077, 387644, 27156...</td>\n",
       "    </tr>\n",
       "    <tr>\n",
       "      <th>19</th>\n",
       "      <td>19</td>\n",
       "      <td>What is it ai living in the middle class?</td>\n",
       "      <td>Why middle class?</td>\n",
       "      <td>[[284444, 19215, 19218, 13833, 44420, 19228, 3...</td>\n",
       "      <td>[[211292, 20021, 86521, 180123]]</td>\n",
       "    </tr>\n",
       "    <tr>\n",
       "      <th>20</th>\n",
       "      <td>20</td>\n",
       "      <td>How matter at MIT? Will performing poorly in 1...</td>\n",
       "      <td>I have passed 5 AP tests with scores trump 5. ...</td>\n",
       "      <td>[[136736, 19008, 13846, 83363, 180123, 148558,...</td>\n",
       "      <td>[[167466, 307392, 48353, 296883, 13842, 21630,...</td>\n",
       "    </tr>\n",
       "    <tr>\n",
       "      <th>21</th>\n",
       "      <td>21</td>\n",
       "      <td>What possible with XAT percentile between 85 a...</td>\n",
       "      <td>Is it possible that a person getting below 90 ...</td>\n",
       "      <td>[[284444, 162010, 1502, 88914, 73303, 78731, 3...</td>\n",
       "      <td>[[19215, 19218, 162010, 91093, 341136, 62181, ...</td>\n",
       "    </tr>\n",
       "    <tr>\n",
       "      <th>22</th>\n",
       "      <td>22</td>\n",
       "      <td>What are the differences between clients and s...</td>\n",
       "      <td>What is the difference between a server and a ...</td>\n",
       "      <td>[[284444, 198244, 365157, 84890, 78731, 51986,...</td>\n",
       "      <td>[[284444, 19215, 365157, 181875, 78731, 341136...</td>\n",
       "    </tr>\n",
       "    <tr>\n",
       "      <th>23</th>\n",
       "      <td>23</td>\n",
       "      <td>I want to eat hacking where should I start?</td>\n",
       "      <td>If I want to learn processor what should I do?</td>\n",
       "      <td>[[167466, 298654, 358156, 380444, 40653, 32162...</td>\n",
       "      <td>[[19235, 167466, 298654, 358156, 1741, 290596,...</td>\n",
       "    </tr>\n",
       "    <tr>\n",
       "      <th>24</th>\n",
       "      <td>24</td>\n",
       "      <td>Why do people like Hrithik Roshan tax much?</td>\n",
       "      <td>Who will win the clash on 26th January welfare...</td>\n",
       "      <td>[[211292, 264345, 212335, 9136, 262794, 194844...</td>\n",
       "      <td>[[211277, 148558, 229574, 365157, 86510, 12246...</td>\n",
       "    </tr>\n",
       "    <tr>\n",
       "      <th>25</th>\n",
       "      <td>25</td>\n",
       "      <td>What should be the first computer table langua...</td>\n",
       "      <td>Which language should I x^4 as a first program...</td>\n",
       "      <td>[[284444, 27558, 363650, 365157, 305750, 92734...</td>\n",
       "      <td>[[386529, 318224, 27558, 167466, 191960, 26865...</td>\n",
       "    </tr>\n",
       "    <tr>\n",
       "      <th>26</th>\n",
       "      <td>26</td>\n",
       "      <td>What is a selling good dose to get high on klo...</td>\n",
       "      <td>Is 3mg always of Xanax a high dose?</td>\n",
       "      <td>[[284444, 19215, 341136, 278525, 395338, 27955...</td>\n",
       "      <td>[[19215, 0, 63658, 122473, 119451, 341136, 114...</td>\n",
       "    </tr>\n",
       "    <tr>\n",
       "      <th>27</th>\n",
       "      <td>27</td>\n",
       "      <td>What shall I rights to study BA economics at LSE?</td>\n",
       "      <td>What subjects should I be good at if I want gm...</td>\n",
       "      <td>[[284444, 87285, 167466, 317333, 358156, 27822...</td>\n",
       "      <td>[[284444, 301839, 27558, 167466, 363650, 39533...</td>\n",
       "    </tr>\n",
       "    <tr>\n",
       "      <th>28</th>\n",
       "      <td>28</td>\n",
       "      <td>What is the pH of zinc powder reacted with dil...</td>\n",
       "      <td>Does copper oxide react with hydrochloric acid?</td>\n",
       "      <td>[[284444, 19215, 365157, 73158, 122473, 82199,...</td>\n",
       "      <td>[[118471, 281512, 28124, 247475, 1502, 20191, ...</td>\n",
       "    </tr>\n",
       "    <tr>\n",
       "      <th>29</th>\n",
       "      <td>29</td>\n",
       "      <td>Are there Doctor Who references in the Muse so...</td>\n",
       "      <td>In \"The Big Bang\" episode of Doctor Who, how d...</td>\n",
       "      <td>[[198244, 359877, 343941, 211277, 331488, 1922...</td>\n",
       "      <td>[[19228, 365157, 95240, 276897, 161756, 122473...</td>\n",
       "    </tr>\n",
       "    <tr>\n",
       "      <th>...</th>\n",
       "      <td>...</td>\n",
       "      <td>...</td>\n",
       "      <td>...</td>\n",
       "      <td>...</td>\n",
       "      <td>...</td>\n",
       "    </tr>\n",
       "    <tr>\n",
       "      <th>2345766</th>\n",
       "      <td>2345766</td>\n",
       "      <td>How should I by start product design with mate...</td>\n",
       "      <td>What are the essential facts water know about ...</td>\n",
       "      <td>[[136736, 27558, 167466, 187615, 353624, 25265...</td>\n",
       "      <td>[[284444, 198244, 365157, 385973, 118487, 3466...</td>\n",
       "    </tr>\n",
       "    <tr>\n",
       "      <th>2345767</th>\n",
       "      <td>2345767</td>\n",
       "      <td>At absorb mileage would front brake pads need ...</td>\n",
       "      <td>What tax some tips for replacing brake pads?</td>\n",
       "      <td>[[13846, 266948, 283438, 155808, 92507, 140159...</td>\n",
       "      <td>[[284444, 49428, 92131, 393561, 362105, 80773,...</td>\n",
       "    </tr>\n",
       "    <tr>\n",
       "      <th>2345768</th>\n",
       "      <td>2345768</td>\n",
       "      <td>What are ways to prevent over fitting your tra...</td>\n",
       "      <td>Why should PCA only be fit on the training set...</td>\n",
       "      <td>[[284444, 198244, 347008, 358156, 62674, 24574...</td>\n",
       "      <td>[[211292, 27558, 256526, 378505, 363650, 227, ...</td>\n",
       "    </tr>\n",
       "    <tr>\n",
       "      <th>2345769</th>\n",
       "      <td>2345769</td>\n",
       "      <td>What all the job levels in Apple's technical c...</td>\n",
       "      <td>NIT Srinagar or Silchar what's Agartala? Which...</td>\n",
       "      <td>[[284444, 234802, 365157, 310605, 14477, 19228...</td>\n",
       "      <td>[[90544, 236959, 122489, 184491, 284444, 74958...</td>\n",
       "    </tr>\n",
       "    <tr>\n",
       "      <th>2345770</th>\n",
       "      <td>2345770</td>\n",
       "      <td>Does it is Pokemon Go going to be released in ...</td>\n",
       "      <td>What are some GO release in India?</td>\n",
       "      <td>[[118471, 19218, 19215, 222067, 117144, 137736...</td>\n",
       "      <td>[[284444, 198244, 92131, 117144, 236824, 19228...</td>\n",
       "    </tr>\n",
       "    <tr>\n",
       "      <th>2345771</th>\n",
       "      <td>2345771</td>\n",
       "      <td>How do you charge a laptop without a charger?</td>\n",
       "      <td>Does a 90 watt laptop charger charge a laptop ...</td>\n",
       "      <td>[[136736, 264345, 41833, 334033, 341136, 14632...</td>\n",
       "      <td>[[118471, 341136, 387118, 291048, 146323, 1507...</td>\n",
       "    </tr>\n",
       "    <tr>\n",
       "      <th>2345772</th>\n",
       "      <td>2345772</td>\n",
       "      <td>How like the word \"incredulous\" used in a sent...</td>\n",
       "      <td>How nowadays the word \"incredulity\" used in a ...</td>\n",
       "      <td>[[136736, 9136, 365157, 139784, 94197, 116915,...</td>\n",
       "      <td>[[136736, 91442, 365157, 139784, 183767, 11691...</td>\n",
       "    </tr>\n",
       "    <tr>\n",
       "      <th>2345773</th>\n",
       "      <td>2345773</td>\n",
       "      <td>How does</td>\n",
       "      <td>What is peer to they peer replication?</td>\n",
       "      <td>[[136736, 118471]]</td>\n",
       "      <td>[[284444, 19215, 189761, 358156, 164726, 18976...</td>\n",
       "    </tr>\n",
       "    <tr>\n",
       "      <th>2345774</th>\n",
       "      <td>2345774</td>\n",
       "      <td>Tagline ideas ways to earn money from home?</td>\n",
       "      <td>What jobs you can do helmets home?</td>\n",
       "      <td>[[280347, 334341, 347008, 358156, 255162, 3313...</td>\n",
       "      <td>[[284444, 38434, 41833, 28879, 264345, 236829,...</td>\n",
       "    </tr>\n",
       "    <tr>\n",
       "      <th>2345775</th>\n",
       "      <td>2345775</td>\n",
       "      <td>Are move to the USA?</td>\n",
       "      <td>What would a Canadian have NOT to move to the ...</td>\n",
       "      <td>[[198244, 326138, 358156, 365157, 373429, 1801...</td>\n",
       "      <td>[[284444, 155808, 341136, 194021, 307392, 5360...</td>\n",
       "    </tr>\n",
       "    <tr>\n",
       "      <th>2345776</th>\n",
       "      <td>2345776</td>\n",
       "      <td>How do I get more traffic in along U.K. business?</td>\n",
       "      <td>Who can I get more traffic for a website?</td>\n",
       "      <td>[[136736, 264345, 167466, 7347, 1723, 200775, ...</td>\n",
       "      <td>[[211277, 28879, 167466, 7347, 1723, 200775, 3...</td>\n",
       "    </tr>\n",
       "    <tr>\n",
       "      <th>2345777</th>\n",
       "      <td>2345777</td>\n",
       "      <td>How does high useless?</td>\n",
       "      <td>Why do rainforests polymers high biodiversity?</td>\n",
       "      <td>[[136736, 118471, 114226, 253813, 180123]]</td>\n",
       "      <td>[[211292, 264345, 372814, 235456, 114226, 1141...</td>\n",
       "    </tr>\n",
       "    <tr>\n",
       "      <th>2345778</th>\n",
       "      <td>2345778</td>\n",
       "      <td>What are the measures to correct would balance...</td>\n",
       "      <td>Why was the trade deficit so high used India i...</td>\n",
       "      <td>[[284444, 198244, 365157, 322429, 358156, 2435...</td>\n",
       "      <td>[[211292, 377992, 365157, 334409, 365983, 3245...</td>\n",
       "    </tr>\n",
       "    <tr>\n",
       "      <th>2345779</th>\n",
       "      <td>2345779</td>\n",
       "      <td>How do I fax referring document from Malaysia ...</td>\n",
       "      <td>How can I send a where fax from Australia to B...</td>\n",
       "      <td>[[136736, 264345, 167466, 147322, 366141, 1830...</td>\n",
       "      <td>[[136736, 28879, 167466, 313245, 341136, 32162...</td>\n",
       "    </tr>\n",
       "    <tr>\n",
       "      <th>2345780</th>\n",
       "      <td>2345780</td>\n",
       "      <td>Why is the cost of living in Namibia?</td>\n",
       "      <td>How much in US dollars do I need to live at an...</td>\n",
       "      <td>[[211292, 19215, 365157, 53423, 122473, 44420,...</td>\n",
       "      <td>[[136736, 298987, 19228, 162628, 62489, 264345...</td>\n",
       "    </tr>\n",
       "    <tr>\n",
       "      <th>2345781</th>\n",
       "      <td>2345781</td>\n",
       "      <td>What is a diet plan for a 21 year airdna.co fe...</td>\n",
       "      <td>What is healthy Diet Chat test 22 year old fem...</td>\n",
       "      <td>[[284444, 19215, 341136, 317922, 63806, 362105...</td>\n",
       "      <td>[[284444, 19215, 334100, 317922, 51799, 302221...</td>\n",
       "    </tr>\n",
       "    <tr>\n",
       "      <th>2345782</th>\n",
       "      <td>2345782</td>\n",
       "      <td>Is there any need of who reservation in educat...</td>\n",
       "      <td>Why do low caste people get India still need r...</td>\n",
       "      <td>[[19215, 359877, 271593, 92633, 122473, 211277...</td>\n",
       "      <td>[[211292, 264345, 278096, 370909, 212335, 7347...</td>\n",
       "    </tr>\n",
       "    <tr>\n",
       "      <th>2345783</th>\n",
       "      <td>2345783</td>\n",
       "      <td>I have this belief that even if I have an amaz...</td>\n",
       "      <td>I hate my parents because they don't understan...</td>\n",
       "      <td>[[167466, 307392, 238825, 125894, 91093, 26133...</td>\n",
       "      <td>[[167466, 270445, 221151, 300588, 99155, 16472...</td>\n",
       "    </tr>\n",
       "    <tr>\n",
       "      <th>2345784</th>\n",
       "      <td>2345784</td>\n",
       "      <td>Can I change myself?</td>\n",
       "      <td>How can I change myself?</td>\n",
       "      <td>[[28879, 167466, 16390, 312504, 180123]]</td>\n",
       "      <td>[[136736, 28879, 167466, 16390, 312504, 180123]]</td>\n",
       "    </tr>\n",
       "    <tr>\n",
       "      <th>2345785</th>\n",
       "      <td>2345785</td>\n",
       "      <td>What are the best mortgage companies to make for?</td>\n",
       "      <td>What does a Quora BNBR asian look like?</td>\n",
       "      <td>[[284444, 198244, 365157, 12831, 347006, 26723...</td>\n",
       "      <td>[[284444, 118471, 341136, 329203, 0, 380509, 2...</td>\n",
       "    </tr>\n",
       "    <tr>\n",
       "      <th>2345786</th>\n",
       "      <td>2345786</td>\n",
       "      <td>Do you dye indian your hair?</td>\n",
       "      <td>What are the hair for my birthday?</td>\n",
       "      <td>[[264345, 41833, 287024, 39150, 52117, 9156, 1...</td>\n",
       "      <td>[[284444, 198244, 365157, 9156, 362105, 221151...</td>\n",
       "    </tr>\n",
       "    <tr>\n",
       "      <th>2345787</th>\n",
       "      <td>2345787</td>\n",
       "      <td>Why hasn't Trump gotten rid of latin illegal w...</td>\n",
       "      <td>What Computer Science Department require so ma...</td>\n",
       "      <td>[[211292, 99943, 318479, 386241, 171966, 98290...</td>\n",
       "      <td>[[284444, 92734, 163095, 303848, 271559, 32454...</td>\n",
       "    </tr>\n",
       "    <tr>\n",
       "      <th>2345788</th>\n",
       "      <td>2345788</td>\n",
       "      <td>What industries create the top 100 richest peo...</td>\n",
       "      <td>Why are sheikhs not considered wall the riches...</td>\n",
       "      <td>[[284444, 269873, 219874, 365157, 384028, 3300...</td>\n",
       "      <td>[[211292, 198244, 55751, 53605, 122196, 23104,...</td>\n",
       "    </tr>\n",
       "    <tr>\n",
       "      <th>2345789</th>\n",
       "      <td>2345789</td>\n",
       "      <td>If I step 240 volts AC to 120 volts AC, and re...</td>\n",
       "      <td>I am working in an IT company with 9 hours sid...</td>\n",
       "      <td>[[19235, 167466, 329042, 287686, 201879, 83488...</td>\n",
       "      <td>[[167466, 13837, 50447, 19228, 13840, 19218, 1...</td>\n",
       "    </tr>\n",
       "    <tr>\n",
       "      <th>2345790</th>\n",
       "      <td>2345790</td>\n",
       "      <td>What should is the average cost for a call in ...</td>\n",
       "      <td>What are the types of models used in Cost Cent...</td>\n",
       "      <td>[[284444, 27558, 19215, 365157, 125252, 53423,...</td>\n",
       "      <td>[[284444, 198244, 365157, 124265, 122473, 3243...</td>\n",
       "    </tr>\n",
       "    <tr>\n",
       "      <th>2345791</th>\n",
       "      <td>2345791</td>\n",
       "      <td>How do Peaks (TV series): Why did Leland kill ...</td>\n",
       "      <td>What is the most study scene in twin peaks?</td>\n",
       "      <td>[[136736, 264345, 308380, 160443, 58814, 32383...</td>\n",
       "      <td>[[284444, 19215, 365157, 382509, 278221, 35163...</td>\n",
       "    </tr>\n",
       "    <tr>\n",
       "      <th>2345792</th>\n",
       "      <td>2345792</td>\n",
       "      <td>What does be \"in transit\" mean on FedEx tracking?</td>\n",
       "      <td>How question FedEx packages delivered?</td>\n",
       "      <td>[[284444, 118471, 363650, 19228, 320960, 31319...</td>\n",
       "      <td>[[136736, 260081, 164383, 264418, 381249, 1801...</td>\n",
       "    </tr>\n",
       "    <tr>\n",
       "      <th>2345793</th>\n",
       "      <td>2345793</td>\n",
       "      <td>What are some famous Romanian drinks (alcoholi...</td>\n",
       "      <td>Can a non-alcoholic restaurant be a huge success?</td>\n",
       "      <td>[[284444, 198244, 92131, 204902, 31952, 197132...</td>\n",
       "      <td>[[28879, 341136, 53588, 29290, 57605, 363650, ...</td>\n",
       "    </tr>\n",
       "    <tr>\n",
       "      <th>2345794</th>\n",
       "      <td>2345794</td>\n",
       "      <td>What were the best and worst things about publ...</td>\n",
       "      <td>What are the best and worst things examination...</td>\n",
       "      <td>[[284444, 119033, 365157, 12831, 271565, 72677...</td>\n",
       "      <td>[[284444, 198244, 365157, 12831, 271565, 72677...</td>\n",
       "    </tr>\n",
       "    <tr>\n",
       "      <th>2345795</th>\n",
       "      <td>2345795</td>\n",
       "      <td>What is the best medication equation erectile ...</td>\n",
       "      <td>How do I out get rid of Erectile Dysfunction?</td>\n",
       "      <td>[[284444, 19215, 365157, 12831, 28689, 122719,...</td>\n",
       "      <td>[[136736, 264345, 167466, 360973, 7347, 98290,...</td>\n",
       "    </tr>\n",
       "  </tbody>\n",
       "</table>\n",
       "<p>2345796 rows × 5 columns</p>\n",
       "</div>"
      ],
      "text/plain": [
       "         test_id                                          question1  \\\n",
       "0              0  How does the Surface Pro himself 4 compare wit...   \n",
       "1              1  Should I have a hair transplant at age 24? How...   \n",
       "2              2  What but is the best way to send money from Ch...   \n",
       "3              3                        Which food not emulsifiers?   \n",
       "4              4                   How \"aberystwyth\" start reading?   \n",
       "5              5  How are the two wheeler insurance from Bharti ...   \n",
       "6              6      How can I reduce my belly fat through a diet?   \n",
       "7              7  By scrapping the 500 and 1000 rupee notes, how...   \n",
       "8              8           What are the how best books of all time?   \n",
       "9              9  After 12th years old boy and I had sex with a ...   \n",
       "10            10        What is the best slideshow app for Android?   \n",
       "11            11  What services are from Google: Facebook, YouTu...   \n",
       "12            12  What if a cricket hits a batsman’s helmet and ...   \n",
       "13            13                Just how do you learn fruity loops?   \n",
       "14            14     Why does Batman get kill in Batman v Superman?   \n",
       "15            15                     When can I buy a SpaceX stock?   \n",
       "16            16                    Is it gouging and price fixing?   \n",
       "17            17  Can a vacuum cleaner concentrate suck your eye...   \n",
       "18            18  I am 20 years old and I still a problem with p...   \n",
       "19            19          What is it ai living in the middle class?   \n",
       "20            20  How matter at MIT? Will performing poorly in 1...   \n",
       "21            21  What possible with XAT percentile between 85 a...   \n",
       "22            22  What are the differences between clients and s...   \n",
       "23            23        I want to eat hacking where should I start?   \n",
       "24            24        Why do people like Hrithik Roshan tax much?   \n",
       "25            25  What should be the first computer table langua...   \n",
       "26            26  What is a selling good dose to get high on klo...   \n",
       "27            27  What shall I rights to study BA economics at LSE?   \n",
       "28            28  What is the pH of zinc powder reacted with dil...   \n",
       "29            29  Are there Doctor Who references in the Muse so...   \n",
       "...          ...                                                ...   \n",
       "2345766  2345766  How should I by start product design with mate...   \n",
       "2345767  2345767  At absorb mileage would front brake pads need ...   \n",
       "2345768  2345768  What are ways to prevent over fitting your tra...   \n",
       "2345769  2345769  What all the job levels in Apple's technical c...   \n",
       "2345770  2345770  Does it is Pokemon Go going to be released in ...   \n",
       "2345771  2345771      How do you charge a laptop without a charger?   \n",
       "2345772  2345772  How like the word \"incredulous\" used in a sent...   \n",
       "2345773  2345773                                          How does    \n",
       "2345774  2345774        Tagline ideas ways to earn money from home?   \n",
       "2345775  2345775                               Are move to the USA?   \n",
       "2345776  2345776  How do I get more traffic in along U.K. business?   \n",
       "2345777  2345777                             How does high useless?   \n",
       "2345778  2345778  What are the measures to correct would balance...   \n",
       "2345779  2345779  How do I fax referring document from Malaysia ...   \n",
       "2345780  2345780              Why is the cost of living in Namibia?   \n",
       "2345781  2345781  What is a diet plan for a 21 year airdna.co fe...   \n",
       "2345782  2345782  Is there any need of who reservation in educat...   \n",
       "2345783  2345783  I have this belief that even if I have an amaz...   \n",
       "2345784  2345784                               Can I change myself?   \n",
       "2345785  2345785  What are the best mortgage companies to make for?   \n",
       "2345786  2345786                       Do you dye indian your hair?   \n",
       "2345787  2345787  Why hasn't Trump gotten rid of latin illegal w...   \n",
       "2345788  2345788  What industries create the top 100 richest peo...   \n",
       "2345789  2345789  If I step 240 volts AC to 120 volts AC, and re...   \n",
       "2345790  2345790  What should is the average cost for a call in ...   \n",
       "2345791  2345791  How do Peaks (TV series): Why did Leland kill ...   \n",
       "2345792  2345792  What does be \"in transit\" mean on FedEx tracking?   \n",
       "2345793  2345793  What are some famous Romanian drinks (alcoholi...   \n",
       "2345794  2345794  What were the best and worst things about publ...   \n",
       "2345795  2345795  What is the best medication equation erectile ...   \n",
       "\n",
       "                                                 question2  \\\n",
       "0        Why did Microsoft choose core m3 and not core ...   \n",
       "1              How much cost does hair transplant require?   \n",
       "2                            What you send money to China?   \n",
       "3                                        What foods fibre?   \n",
       "4                           How their can I start reading?   \n",
       "5        I admire I am considering of buying insurance ...   \n",
       "6        How can I reduce my lower belly fat in one month?   \n",
       "7        How will the recent move to declare 500 and 10...   \n",
       "8        What are some of the military history books of...   \n",
       "9                Can a 14 old guy date a 12 year old girl?   \n",
       "10                      What are the best app for android?   \n",
       "11       What social network (like Google, Facebook, Wh...   \n",
       "12       Should carbonated red balls and 8 yellow balls...   \n",
       "13                            How do Fruity Wrappers work?   \n",
       "14       In Batman v Superman, why reduce Lex Luthor pi...   \n",
       "15                        Should I sell or buy LNKD stock?   \n",
       "16       What's the difference between intel of somethi...   \n",
       "17       Could a vacuum cleaner suck get your eye out i...   \n",
       "18       I am 20 years old and still have acne. It seem...   \n",
       "19                                       Why middle class?   \n",
       "20       I have passed 5 AP tests with scores trump 5. ...   \n",
       "21       Is it possible that a person getting below 90 ...   \n",
       "22       What is the difference between a server and a ...   \n",
       "23          If I want to learn processor what should I do?   \n",
       "24       Who will win the clash on 26th January welfare...   \n",
       "25       Which language should I x^4 as a first program...   \n",
       "26                     Is 3mg always of Xanax a high dose?   \n",
       "27       What subjects should I be good at if I want gm...   \n",
       "28         Does copper oxide react with hydrochloric acid?   \n",
       "29       In \"The Big Bang\" episode of Doctor Who, how d...   \n",
       "...                                                    ...   \n",
       "2345766  What are the essential facts water know about ...   \n",
       "2345767       What tax some tips for replacing brake pads?   \n",
       "2345768  Why should PCA only be fit on the training set...   \n",
       "2345769  NIT Srinagar or Silchar what's Agartala? Which...   \n",
       "2345770                 What are some GO release in India?   \n",
       "2345771  Does a 90 watt laptop charger charge a laptop ...   \n",
       "2345772  How nowadays the word \"incredulity\" used in a ...   \n",
       "2345773             What is peer to they peer replication?   \n",
       "2345774                 What jobs you can do helmets home?   \n",
       "2345775  What would a Canadian have NOT to move to the ...   \n",
       "2345776          Who can I get more traffic for a website?   \n",
       "2345777     Why do rainforests polymers high biodiversity?   \n",
       "2345778  Why was the trade deficit so high used India i...   \n",
       "2345779  How can I send a where fax from Australia to B...   \n",
       "2345780  How much in US dollars do I need to live at an...   \n",
       "2345781  What is healthy Diet Chat test 22 year old fem...   \n",
       "2345782  Why do low caste people get India still need r...   \n",
       "2345783  I hate my parents because they don't understan...   \n",
       "2345784                           How can I change myself?   \n",
       "2345785            What does a Quora BNBR asian look like?   \n",
       "2345786                 What are the hair for my birthday?   \n",
       "2345787  What Computer Science Department require so ma...   \n",
       "2345788  Why are sheikhs not considered wall the riches...   \n",
       "2345789  I am working in an IT company with 9 hours sid...   \n",
       "2345790  What are the types of models used in Cost Cent...   \n",
       "2345791        What is the most study scene in twin peaks?   \n",
       "2345792             How question FedEx packages delivered?   \n",
       "2345793  Can a non-alcoholic restaurant be a huge success?   \n",
       "2345794  What are the best and worst things examination...   \n",
       "2345795      How do I out get rid of Erectile Dysfunction?   \n",
       "\n",
       "                                               q1_sent_idx  \\\n",
       "0        [[136736, 118471, 365157, 105198, 172002, 3668...   \n",
       "1        [[27558, 167466, 307392, 341136, 9156, 206438,...   \n",
       "2        [[284444, 21748, 19215, 365157, 12831, 377986,...   \n",
       "3                 [[386529, 17342, 53605, 163447, 180123]]   \n",
       "4               [[136736, 397884, 353624, 268505, 180123]]   \n",
       "5        [[136736, 198244, 365157, 132069, 113810, 2196...   \n",
       "6        [[136736, 28879, 167466, 225832, 221151, 33054...   \n",
       "7        [[187615, 13939, 365157, 234526, 271565, 17193...   \n",
       "8        [[284444, 198244, 365157, 136736, 12831, 20192...   \n",
       "9        [[28150, 53405, 105077, 387644, 206398, 271565...   \n",
       "10       [[284444, 19215, 365157, 12831, 297440, 160688...   \n",
       "11       [[284444, 207471, 198244, 110993, 294480, 3927...   \n",
       "12       [[284444, 19235, 341136, 61398, 354963, 341136...   \n",
       "13       [[394096, 136736, 264345, 41833, 1741, 265051,...   \n",
       "14       [[211292, 118471, 6896, 7347, 88841, 19228, 68...   \n",
       "15       [[359141, 28879, 167466, 21743, 341136, 261795...   \n",
       "16       [[19215, 19218, 285634, 271565, 29114, 226323,...   \n",
       "17       [[28879, 341136, 75651, 192009, 26039, 137500,...   \n",
       "18       [[167466, 13837, 331813, 105077, 387644, 27156...   \n",
       "19       [[284444, 19215, 19218, 13833, 44420, 19228, 3...   \n",
       "20       [[136736, 19008, 13846, 83363, 180123, 148558,...   \n",
       "21       [[284444, 162010, 1502, 88914, 73303, 78731, 3...   \n",
       "22       [[284444, 198244, 365157, 84890, 78731, 51986,...   \n",
       "23       [[167466, 298654, 358156, 380444, 40653, 32162...   \n",
       "24       [[211292, 264345, 212335, 9136, 262794, 194844...   \n",
       "25       [[284444, 27558, 363650, 365157, 305750, 92734...   \n",
       "26       [[284444, 19215, 341136, 278525, 395338, 27955...   \n",
       "27       [[284444, 87285, 167466, 317333, 358156, 27822...   \n",
       "28       [[284444, 19215, 365157, 73158, 122473, 82199,...   \n",
       "29       [[198244, 359877, 343941, 211277, 331488, 1922...   \n",
       "...                                                    ...   \n",
       "2345766  [[136736, 27558, 167466, 187615, 353624, 25265...   \n",
       "2345767  [[13846, 266948, 283438, 155808, 92507, 140159...   \n",
       "2345768  [[284444, 198244, 347008, 358156, 62674, 24574...   \n",
       "2345769  [[284444, 234802, 365157, 310605, 14477, 19228...   \n",
       "2345770  [[118471, 19218, 19215, 222067, 117144, 137736...   \n",
       "2345771  [[136736, 264345, 41833, 334033, 341136, 14632...   \n",
       "2345772  [[136736, 9136, 365157, 139784, 94197, 116915,...   \n",
       "2345773                                 [[136736, 118471]]   \n",
       "2345774  [[280347, 334341, 347008, 358156, 255162, 3313...   \n",
       "2345775  [[198244, 326138, 358156, 365157, 373429, 1801...   \n",
       "2345776  [[136736, 264345, 167466, 7347, 1723, 200775, ...   \n",
       "2345777         [[136736, 118471, 114226, 253813, 180123]]   \n",
       "2345778  [[284444, 198244, 365157, 322429, 358156, 2435...   \n",
       "2345779  [[136736, 264345, 167466, 147322, 366141, 1830...   \n",
       "2345780  [[211292, 19215, 365157, 53423, 122473, 44420,...   \n",
       "2345781  [[284444, 19215, 341136, 317922, 63806, 362105...   \n",
       "2345782  [[19215, 359877, 271593, 92633, 122473, 211277...   \n",
       "2345783  [[167466, 307392, 238825, 125894, 91093, 26133...   \n",
       "2345784           [[28879, 167466, 16390, 312504, 180123]]   \n",
       "2345785  [[284444, 198244, 365157, 12831, 347006, 26723...   \n",
       "2345786  [[264345, 41833, 287024, 39150, 52117, 9156, 1...   \n",
       "2345787  [[211292, 99943, 318479, 386241, 171966, 98290...   \n",
       "2345788  [[284444, 269873, 219874, 365157, 384028, 3300...   \n",
       "2345789  [[19235, 167466, 329042, 287686, 201879, 83488...   \n",
       "2345790  [[284444, 27558, 19215, 365157, 125252, 53423,...   \n",
       "2345791  [[136736, 264345, 308380, 160443, 58814, 32383...   \n",
       "2345792  [[284444, 118471, 363650, 19228, 320960, 31319...   \n",
       "2345793  [[284444, 198244, 92131, 204902, 31952, 197132...   \n",
       "2345794  [[284444, 119033, 365157, 12831, 271565, 72677...   \n",
       "2345795  [[284444, 19215, 365157, 12831, 28689, 122719,...   \n",
       "\n",
       "                                               q2_sent_idx  \n",
       "0        [[211292, 343394, 26748, 248133, 71798, 221112...  \n",
       "1        [[136736, 298987, 53423, 118471, 9156, 206438,...  \n",
       "2        [[284444, 41833, 313245, 331381, 358156, 14888...  \n",
       "3                       [[284444, 254881, 312085, 180123]]  \n",
       "4        [[136736, 386478, 28879, 167466, 353624, 26850...  \n",
       "5        [[167466, 51583, 167466, 13837, 7442, 122473, ...  \n",
       "6        [[136736, 28879, 167466, 225832, 221151, 12315...  \n",
       "7        [[136736, 148558, 365157, 363561, 326138, 3581...  \n",
       "8        [[284444, 198244, 92131, 122473, 365157, 26104...  \n",
       "9        [[28879, 341136, 381626, 387644, 302301, 27924...  \n",
       "10       [[284444, 198244, 365157, 12831, 160688, 36210...  \n",
       "11       [[284444, 138192, 390475, 160443, 9136, 294480...  \n",
       "12       [[27558, 138539, 319832, 89345, 271565, 382543...  \n",
       "13       [[136736, 264345, 265051, 274851, 101636, 1801...  \n",
       "14       [[19228, 6896, 135186, 209749, 43664, 211292, ...  \n",
       "15       [[27558, 167466, 110636, 122489, 21743, 0, 376...  \n",
       "16       [[284444, 74958, 365157, 181875, 78731, 125503...  \n",
       "17       [[2625, 341136, 75651, 192009, 137500, 7347, 5...  \n",
       "18       [[167466, 13837, 331813, 105077, 387644, 27156...  \n",
       "19                        [[211292, 20021, 86521, 180123]]  \n",
       "20       [[167466, 307392, 48353, 296883, 13842, 21630,...  \n",
       "21       [[19215, 19218, 162010, 91093, 341136, 62181, ...  \n",
       "22       [[284444, 19215, 365157, 181875, 78731, 341136...  \n",
       "23       [[19235, 167466, 298654, 358156, 1741, 290596,...  \n",
       "24       [[211277, 148558, 229574, 365157, 86510, 12246...  \n",
       "25       [[386529, 318224, 27558, 167466, 191960, 26865...  \n",
       "26       [[19215, 0, 63658, 122473, 119451, 341136, 114...  \n",
       "27       [[284444, 301839, 27558, 167466, 363650, 39533...  \n",
       "28       [[118471, 281512, 28124, 247475, 1502, 20191, ...  \n",
       "29       [[19228, 365157, 95240, 276897, 161756, 122473...  \n",
       "...                                                    ...  \n",
       "2345766  [[284444, 198244, 365157, 385973, 118487, 3466...  \n",
       "2345767  [[284444, 49428, 92131, 393561, 362105, 80773,...  \n",
       "2345768  [[211292, 27558, 256526, 378505, 363650, 227, ...  \n",
       "2345769  [[90544, 236959, 122489, 184491, 284444, 74958...  \n",
       "2345770  [[284444, 198244, 92131, 117144, 236824, 19228...  \n",
       "2345771  [[118471, 341136, 387118, 291048, 146323, 1507...  \n",
       "2345772  [[136736, 91442, 365157, 139784, 183767, 11691...  \n",
       "2345773  [[284444, 19215, 189761, 358156, 164726, 18976...  \n",
       "2345774  [[284444, 38434, 41833, 28879, 264345, 236829,...  \n",
       "2345775  [[284444, 155808, 341136, 194021, 307392, 5360...  \n",
       "2345776  [[211277, 28879, 167466, 7347, 1723, 200775, 3...  \n",
       "2345777  [[211292, 264345, 372814, 235456, 114226, 1141...  \n",
       "2345778  [[211292, 377992, 365157, 334409, 365983, 3245...  \n",
       "2345779  [[136736, 28879, 167466, 313245, 341136, 32162...  \n",
       "2345780  [[136736, 298987, 19228, 162628, 62489, 264345...  \n",
       "2345781  [[284444, 19215, 334100, 317922, 51799, 302221...  \n",
       "2345782  [[211292, 264345, 278096, 370909, 212335, 7347...  \n",
       "2345783  [[167466, 270445, 221151, 300588, 99155, 16472...  \n",
       "2345784   [[136736, 28879, 167466, 16390, 312504, 180123]]  \n",
       "2345785  [[284444, 118471, 341136, 329203, 0, 380509, 2...  \n",
       "2345786  [[284444, 198244, 365157, 9156, 362105, 221151...  \n",
       "2345787  [[284444, 92734, 163095, 303848, 271559, 32454...  \n",
       "2345788  [[211292, 198244, 55751, 53605, 122196, 23104,...  \n",
       "2345789  [[167466, 13837, 50447, 19228, 13840, 19218, 1...  \n",
       "2345790  [[284444, 198244, 365157, 124265, 122473, 3243...  \n",
       "2345791  [[284444, 19215, 365157, 382509, 278221, 35163...  \n",
       "2345792  [[136736, 260081, 164383, 264418, 381249, 1801...  \n",
       "2345793  [[28879, 341136, 53588, 29290, 57605, 363650, ...  \n",
       "2345794  [[284444, 198244, 365157, 12831, 271565, 72677...  \n",
       "2345795  [[136736, 264345, 167466, 360973, 7347, 98290,...  \n",
       "\n",
       "[2345796 rows x 5 columns]"
      ]
     },
     "execution_count": 14,
     "metadata": {},
     "output_type": "execute_result"
    }
   ],
   "source": [
    "df_test"
   ]
  },
  {
   "cell_type": "code",
   "execution_count": 15,
   "metadata": {
    "collapsed": false
   },
   "outputs": [],
   "source": [
    "df_test.to_pickle(test_file+\".pkl\")"
   ]
  },
  {
   "cell_type": "code",
   "execution_count": 16,
   "metadata": {
    "collapsed": false
   },
   "outputs": [
    {
     "data": {
      "text/plain": [
       "Index([u'test_id', u'question1', u'question2', u'q1_sent_idx', u'q2_sent_idx'], dtype='object')"
      ]
     },
     "execution_count": 16,
     "metadata": {},
     "output_type": "execute_result"
    }
   ],
   "source": [
    "df_test.columns"
   ]
  },
  {
   "cell_type": "code",
   "execution_count": 17,
   "metadata": {
    "collapsed": false
   },
   "outputs": [
    {
     "data": {
      "text/plain": [
       "2345796"
      ]
     },
     "execution_count": 17,
     "metadata": {},
     "output_type": "execute_result"
    }
   ],
   "source": [
    "len(df_test)"
   ]
  },
  {
   "cell_type": "code",
   "execution_count": 19,
   "metadata": {
    "collapsed": false
   },
   "outputs": [
    {
     "name": "stdout",
     "output_type": "stream",
     "text": [
      "94646 [[]]\n",
      "714289 [[]]\n",
      "805015 [[]]\n",
      "913286 [[]]\n",
      "923320 [[]]\n",
      "1046690 [[]]\n",
      "1221596 [[]]\n",
      "1461432 [[]]\n"
     ]
    }
   ],
   "source": [
    "for item, frame in df_test[\"q1_sent_idx\"].iteritems():\n",
    "    if len(frame) == 1 and len(frame[0]) > 0:\n",
    "        continue\n",
    "    print item, frame"
   ]
  },
  {
   "cell_type": "code",
   "execution_count": 20,
   "metadata": {
    "collapsed": false
   },
   "outputs": [
    {
     "name": "stdout",
     "output_type": "stream",
     "text": [
      "379205 [[]]\n",
      "788917 [[]]\n",
      "817520 [[]]\n",
      "856433 [[]]\n",
      "943911 [[]]\n",
      "963864 [[]]\n",
      "1250219 [[]]\n",
      "1270024 [[]]\n",
      "1635393 [[]]\n",
      "2164990 [[]]\n"
     ]
    }
   ],
   "source": [
    "for item, frame in df_test[\"q2_sent_idx\"].iteritems():\n",
    "    if len(frame) == 1 and len(frame[0]) > 0:\n",
    "        continue\n",
    "    print item, frame"
   ]
  },
  {
   "cell_type": "code",
   "execution_count": 21,
   "metadata": {
    "collapsed": false
   },
   "outputs": [
    {
     "name": "stdout",
     "output_type": "stream",
     "text": [
      "done\n"
     ]
    }
   ],
   "source": [
    "print \"done\""
   ]
  },
  {
   "cell_type": "code",
   "execution_count": 22,
   "metadata": {
    "collapsed": true
   },
   "outputs": [],
   "source": [
    "df_test[['test_id', 'q1_sent_idx', 'q2_sent_idx']].to_pickle(test_file+\"_ec2.pkl\")"
   ]
  },
  {
   "cell_type": "code",
   "execution_count": null,
   "metadata": {
    "collapsed": true
   },
   "outputs": [],
   "source": []
  }
 ],
 "metadata": {
  "anaconda-cloud": {},
  "kernelspec": {
   "display_name": "Python [Root]",
   "language": "python",
   "name": "Python [Root]"
  },
  "language_info": {
   "codemirror_mode": {
    "name": "ipython",
    "version": 2
   },
   "file_extension": ".py",
   "mimetype": "text/x-python",
   "name": "python",
   "nbconvert_exporter": "python",
   "pygments_lexer": "ipython2",
   "version": "2.7.12"
  }
 },
 "nbformat": 4,
 "nbformat_minor": 0
}
