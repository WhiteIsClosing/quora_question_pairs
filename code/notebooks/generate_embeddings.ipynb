{
 "cells": [
  {
   "cell_type": "markdown",
   "metadata": {},
   "source": [
    "# Processing the train and test data to put each question as a single line and then use gensim to generate word embeddings"
   ]
  },
  {
   "cell_type": "code",
   "execution_count": 1,
   "metadata": {
    "collapsed": true
   },
   "outputs": [],
   "source": [
    "import pandas as pd\n",
    "import numpy as np\n",
    "import os\n",
    "import sys"
   ]
  },
  {
   "cell_type": "code",
   "execution_count": 2,
   "metadata": {
    "collapsed": true
   },
   "outputs": [],
   "source": [
    "from tqdm import tqdm_notebook"
   ]
  },
  {
   "cell_type": "code",
   "execution_count": 3,
   "metadata": {
    "collapsed": true
   },
   "outputs": [],
   "source": [
    "from gensim.models import Word2Vec\n",
    "from gensim.models.phrases import Phrases, Phraser\n",
    "from gensim.models.word2vec import LineSentence"
   ]
  },
  {
   "cell_type": "code",
   "execution_count": 4,
   "metadata": {
    "collapsed": true
   },
   "outputs": [],
   "source": [
    "from multiprocessing import cpu_count\n",
    "from nltk.tokenize import TreebankWordTokenizer "
   ]
  },
  {
   "cell_type": "code",
   "execution_count": 5,
   "metadata": {
    "collapsed": true
   },
   "outputs": [],
   "source": [
    "EMBEDDING_DIM = 300"
   ]
  },
  {
   "cell_type": "code",
   "execution_count": 6,
   "metadata": {
    "collapsed": true
   },
   "outputs": [],
   "source": [
    "tokenize = TreebankWordTokenizer().tokenize"
   ]
  },
  {
   "cell_type": "code",
   "execution_count": 7,
   "metadata": {
    "collapsed": true
   },
   "outputs": [],
   "source": [
    "\"\"\"\n",
    "this is just since I was running some experiments on ec2 instances\n",
    "\"\"\"\n",
    "if \"linux\" in sys.platform:\n",
    "    data_dir = \"/home/ubuntu/datasets/quora_question_pairs\"\n",
    "else:\n",
    "    data_dir = \"/Users/roopal/workspace/kaggle/quora_question_pairs/data\""
   ]
  },
  {
   "cell_type": "code",
   "execution_count": 8,
   "metadata": {
    "collapsed": true
   },
   "outputs": [],
   "source": [
    "data_file = os.path.join(data_dir, \"qqp_text\")\n",
    "data_file_tokens = os.path.join(data_dir, \"qqp_text_tokens\")"
   ]
  },
  {
   "cell_type": "code",
   "execution_count": 13,
   "metadata": {
    "collapsed": true
   },
   "outputs": [],
   "source": [
    "train_file = os.path.join(data_dir, \"train.csv\")\n",
    "test_file = os.path.join(data_dir, \"test.csv\")"
   ]
  },
  {
   "cell_type": "code",
   "execution_count": 14,
   "metadata": {
    "collapsed": true
   },
   "outputs": [],
   "source": [
    "w2v_model = os.path.join(data_dir, \"w2v.model\")\n",
    "w2v_model_bin = os.path.join(data_dir, \"w2v.model.bin\")\n",
    "w2v_vocab = os.path.join(data_dir, \"w2v.model.vocab\")"
   ]
  },
  {
   "cell_type": "code",
   "execution_count": 16,
   "metadata": {
    "collapsed": false
   },
   "outputs": [],
   "source": [
    "df_train = pd.read_csv(train_file, index_col=False)"
   ]
  },
  {
   "cell_type": "code",
   "execution_count": 17,
   "metadata": {
    "collapsed": true
   },
   "outputs": [],
   "source": [
    "df_test = pd.read_csv(test_file, index_col=False)"
   ]
  },
  {
   "cell_type": "code",
   "execution_count": 18,
   "metadata": {
    "collapsed": false
   },
   "outputs": [
    {
     "name": "stdout",
     "output_type": "stream",
     "text": [
      "Index([u'id', u'qid1', u'qid2', u'question1', u'question2', u'is_duplicate'], dtype='object')\n",
      "Index([u'test_id', u'question1', u'question2'], dtype='object')\n"
     ]
    }
   ],
   "source": [
    "print df_train.columns\n",
    "print df_test.columns"
   ]
  },
  {
   "cell_type": "code",
   "execution_count": 19,
   "metadata": {
    "collapsed": true
   },
   "outputs": [],
   "source": [
    "df_questions = df_train['question1']"
   ]
  },
  {
   "cell_type": "code",
   "execution_count": 20,
   "metadata": {
    "collapsed": false
   },
   "outputs": [
    {
     "data": {
      "text/plain": [
       "pandas.core.series.Series"
      ]
     },
     "execution_count": 20,
     "metadata": {},
     "output_type": "execute_result"
    }
   ],
   "source": [
    "type(df_questions)"
   ]
  },
  {
   "cell_type": "code",
   "execution_count": 21,
   "metadata": {
    "collapsed": false
   },
   "outputs": [
    {
     "data": {
      "text/plain": [
       "404290"
      ]
     },
     "execution_count": 21,
     "metadata": {},
     "output_type": "execute_result"
    }
   ],
   "source": [
    "len(df_questions)"
   ]
  },
  {
   "cell_type": "code",
   "execution_count": 22,
   "metadata": {
    "collapsed": false
   },
   "outputs": [],
   "source": [
    "df_questions = df_questions.append(df_train[\"question2\"])"
   ]
  },
  {
   "cell_type": "code",
   "execution_count": 23,
   "metadata": {
    "collapsed": false
   },
   "outputs": [
    {
     "data": {
      "text/plain": [
       "808580"
      ]
     },
     "execution_count": 23,
     "metadata": {},
     "output_type": "execute_result"
    }
   ],
   "source": [
    "len(df_questions)"
   ]
  },
  {
   "cell_type": "code",
   "execution_count": 24,
   "metadata": {
    "collapsed": true
   },
   "outputs": [],
   "source": [
    "df_questions = df_questions.append(df_test[\"question1\"])"
   ]
  },
  {
   "cell_type": "code",
   "execution_count": 25,
   "metadata": {
    "collapsed": false
   },
   "outputs": [
    {
     "data": {
      "text/plain": [
       "3154376"
      ]
     },
     "execution_count": 25,
     "metadata": {},
     "output_type": "execute_result"
    }
   ],
   "source": [
    "len(df_questions)"
   ]
  },
  {
   "cell_type": "code",
   "execution_count": 26,
   "metadata": {
    "collapsed": true
   },
   "outputs": [],
   "source": [
    "df_questions = df_questions.append(df_test[\"question2\"])"
   ]
  },
  {
   "cell_type": "code",
   "execution_count": 27,
   "metadata": {
    "collapsed": false
   },
   "outputs": [
    {
     "data": {
      "text/plain": [
       "5500172"
      ]
     },
     "execution_count": 27,
     "metadata": {},
     "output_type": "execute_result"
    }
   ],
   "source": [
    "len(df_questions)"
   ]
  },
  {
   "cell_type": "code",
   "execution_count": 28,
   "metadata": {
    "collapsed": true
   },
   "outputs": [],
   "source": [
    "df_questions.to_csv(data_file, index=False)"
   ]
  },
  {
   "cell_type": "code",
   "execution_count": 29,
   "metadata": {
    "collapsed": true
   },
   "outputs": [],
   "source": [
    "def tokenize_text(txt_file, txt_tokens_file):\n",
    "    with open(txt_tokens_file, 'w') as out:\n",
    "        with open(txt_file, 'r') as inp:\n",
    "            data = inp.readlines()\n",
    "            pbar = tqdm_notebook(total=len(data), desc=\"current_line\", leave=False)\n",
    "            for i, text in enumerate(data):\n",
    "                tokenized_text = ' '.join(tokenize(text.lower()))\n",
    "                out.write(tokenized_text + \"\\n\")\n",
    "                pbar.update()\n",
    "            pbar.close()"
   ]
  },
  {
   "cell_type": "code",
   "execution_count": 30,
   "metadata": {
    "collapsed": false
   },
   "outputs": [
    {
     "name": "stdout",
     "output_type": "stream",
     "text": [
      "\r"
     ]
    }
   ],
   "source": [
    "tokenize_text(data_file, data_file_tokens)"
   ]
  },
  {
   "cell_type": "code",
   "execution_count": 34,
   "metadata": {
    "collapsed": true
   },
   "outputs": [],
   "source": [
    "def generate_vectors(input_filename, output_filename_model, output_filename_model_w2v_bin, vocab_filename):\n",
    "    sentences = LineSentence(input_filename)\n",
    "#     print sentences\n",
    "#     bigrams = Phrases(sentences, min_count=5, threshold=10)\n",
    "#     print bigrams\n",
    "#     trigrams = Phrases(bigrams[sentences],min_count=5, threshold=10)\n",
    "#     print trigrams\n",
    "    print \"generating models\"\n",
    "    model = Word2Vec(\n",
    "        sentences, size=EMBEDDING_DIM, window=5, min_count=5, workers=cpu_count(), iter=6\n",
    "    )\n",
    "    print \"saving model\"\n",
    "    model.save(output_filename_model)\n",
    "    print \"saving bin model and vocab\"\n",
    "    model.wv.save_word2vec_format(output_filename_model_w2v_bin, vocab_filename, binary=True)"
   ]
  },
  {
   "cell_type": "code",
   "execution_count": 35,
   "metadata": {
    "collapsed": false
   },
   "outputs": [
    {
     "name": "stdout",
     "output_type": "stream",
     "text": [
      "generating models\n",
      "saving model\n",
      "saving bin model and vocab\n"
     ]
    }
   ],
   "source": [
    "generate_vectors(data_file_tokens, w2v_model, w2v_model_bin, w2v_vocab)"
   ]
  },
  {
   "cell_type": "code",
   "execution_count": 36,
   "metadata": {
    "collapsed": false
   },
   "outputs": [
    {
     "name": "stdout",
     "output_type": "stream",
     "text": [
      "Done...\n"
     ]
    }
   ],
   "source": [
    "print \"Done...\""
   ]
  },
  {
   "cell_type": "code",
   "execution_count": 37,
   "metadata": {
    "collapsed": true
   },
   "outputs": [],
   "source": [
    "model = Word2Vec.load(w2v_model)"
   ]
  },
  {
   "cell_type": "code",
   "execution_count": 38,
   "metadata": {
    "collapsed": false
   },
   "outputs": [
    {
     "name": "stdout",
     "output_type": "stream",
     "text": [
      "(u'nepal', 0.5698479413986206)\n",
      "(u'india.', 0.5509123802185059)\n",
      "(u'indian', 0.543890655040741)\n",
      "(u'singapore', 0.5358853340148926)\n",
      "(u'nigeria', 0.5139864683151245)\n",
      "(u'australia', 0.501850426197052)\n",
      "(u'europe', 0.4983462393283844)\n",
      "(u'usa', 0.4983311891555786)\n",
      "(u'indonesia', 0.49664753675460815)\n",
      "(u'malaysia', 0.49647265672683716)\n",
      "(u'bangladesh', 0.49408218264579773)\n",
      "(u'mumbai', 0.4914305806159973)\n",
      "(u'america', 0.4870849549770355)\n",
      "(u'karnataka', 0.48101332783699036)\n",
      "(u'uk', 0.4760788679122925)\n",
      "(u'canada', 0.47129982709884644)\n",
      "(u'delhi', 0.4702357053756714)\n",
      "(u'bangalore', 0.46803537011146545)\n",
      "(u'gujarat', 0.4677974283695221)\n",
      "(u'kolkata', 0.4662250876426697)\n"
     ]
    }
   ],
   "source": [
    "most_similar = model.wv.most_similar(u\"india\", topn=20)\n",
    "for item in most_similar:\n",
    "    print item"
   ]
  },
  {
   "cell_type": "code",
   "execution_count": 39,
   "metadata": {
    "collapsed": false,
    "scrolled": true
   },
   "outputs": [
    {
     "data": {
      "text/plain": [
       "array([ 1.63505113,  1.74928784,  0.33551815,  1.20147967, -1.08627117,\n",
       "        0.32134393,  0.32199851,  0.21930236,  0.63439894, -0.524297  ,\n",
       "       -0.07424913,  0.14191453,  0.30413657,  0.34961057, -0.33987811,\n",
       "        2.41526294, -0.01779459, -0.23598608,  0.21480007,  0.5800305 ,\n",
       "       -1.12349379, -0.51853657, -0.01496914, -0.1390993 ,  0.27757537,\n",
       "       -0.09089902, -1.24239457, -1.042804  , -0.30473396,  1.13916755,\n",
       "        0.22293177,  1.06639969, -0.42549893,  0.55504042, -1.09364414,\n",
       "       -1.14607882, -0.37396845,  0.64139342,  0.09047037,  1.27149355,\n",
       "        1.12145448,  0.19973932, -0.52814686, -0.26487184, -0.77216774,\n",
       "        0.4322072 , -0.01802699,  0.591591  , -0.73351568,  0.70908064,\n",
       "       -0.07412325,  1.10275376, -0.61836624,  0.96817815, -0.16194807,\n",
       "        0.34148327, -0.66180146, -1.30326378,  0.50620872,  0.48529968,\n",
       "       -0.39764825, -0.2398877 , -0.18629874, -0.49037498,  0.93808776,\n",
       "        0.58165681, -0.41860759, -1.64082241, -0.15130819,  0.59713924,\n",
       "       -1.01706254,  0.25290892, -0.62287128, -0.16226539,  0.74117237,\n",
       "       -0.85910147, -1.38122606, -1.16862178, -0.81181049,  0.87314963,\n",
       "        0.138906  ,  0.27823293, -1.373492  ,  1.62305808, -2.12224221,\n",
       "        0.30368778,  0.0575428 , -0.25793913, -0.91723609, -0.60193264,\n",
       "        0.25562736, -1.35256445, -0.12124531, -0.65373451,  1.88361323,\n",
       "       -0.6498099 ,  0.29504126, -0.25743148, -0.60474288, -0.04740157,\n",
       "        0.47132507, -1.26373219,  0.88292289, -0.57010341,  1.66507494,\n",
       "       -0.18569049,  0.89828581, -0.58718538,  0.64353448,  1.33444226,\n",
       "       -0.42943192, -0.03428418,  2.15836596, -0.02000954,  0.26779628,\n",
       "       -0.97282225,  0.46303964,  1.65954232,  0.70411009,  0.14909141,\n",
       "       -0.07303949,  0.07147855, -0.67168105, -1.26212716,  1.54538357,\n",
       "        0.36557701,  0.05099243,  0.07013609, -0.4106552 ,  0.36105698,\n",
       "        0.2605409 , -1.67264795, -0.22765127, -0.65728146,  1.14488721,\n",
       "       -0.62053829, -0.16531184, -0.92780048,  1.40784764, -0.60937494,\n",
       "        0.36379609, -0.49974144, -0.95621973,  0.0555294 ,  0.75052047,\n",
       "       -1.00393581,  0.65712965,  2.26788163, -1.79687238, -0.67854232,\n",
       "        0.7895655 , -0.57468837, -0.46669456, -0.96196455,  0.72542304,\n",
       "       -1.17975938,  0.10532156,  0.71983153, -1.75590837,  0.07403804,\n",
       "       -0.49076489,  1.1283735 , -0.15649788,  0.58405083, -0.1119775 ,\n",
       "       -0.78959537, -0.50963175, -0.84315664,  0.85251164, -0.16770731,\n",
       "       -0.03143523,  1.04970205, -1.15515316,  0.22102223, -0.98517078,\n",
       "        0.66263562, -0.657076  ,  0.60990644, -0.4614034 ,  0.40340793,\n",
       "       -1.08762205, -0.43427539, -0.47830614, -1.18561029,  1.04349792,\n",
       "       -0.84093201,  0.80644333, -0.28412965, -0.13502096, -0.45930821,\n",
       "        0.56429386,  1.48229933, -0.21583252,  0.60439324, -1.12719321,\n",
       "       -0.32115436,  0.42999163,  0.52162999, -1.23074031, -0.68051255,\n",
       "       -1.40960145,  0.05406207, -0.9836185 ,  0.27939877, -2.65900469,\n",
       "        0.36581704,  0.79199505, -0.72451037,  0.90586627, -0.61807287,\n",
       "       -0.26306865,  0.3298136 , -0.04118915, -0.94829059,  0.35394388,\n",
       "        0.92544961,  0.60403973, -0.27441689, -0.35000047, -0.622684  ,\n",
       "       -0.1213198 , -1.0441339 ,  0.16207699, -0.3668209 ,  0.07941859,\n",
       "        0.62708461,  0.30502224, -0.01381725,  0.30168462,  1.33344913,\n",
       "        1.51411557, -0.80046773,  0.11046852, -0.1301787 , -0.2288824 ,\n",
       "        1.60920858, -0.25108328,  0.22434567,  1.02567255, -0.16874179,\n",
       "       -0.51707804,  0.22998576,  0.52990413,  1.10706317,  1.03535175,\n",
       "       -0.88079894, -0.61383945, -0.89648354,  0.48758683,  1.76731741,\n",
       "        0.10798935, -0.20617718,  0.14666596, -0.76992458, -0.26869535,\n",
       "       -1.54761791,  1.55718827,  0.90828252,  0.5608446 , -0.72168922,\n",
       "       -0.02691323, -0.09779516,  0.9775722 , -0.31518105,  1.17219782,\n",
       "        0.76053441,  0.21495083, -0.59110087,  1.48820829,  0.28729039,\n",
       "        0.43002999, -0.3367146 , -0.26403981, -0.73042762,  0.50038242,\n",
       "        0.85013026, -0.96137446,  1.48964727,  0.91915131, -0.53246939,\n",
       "       -0.06012274, -0.19541927,  0.12919413,  0.49421439,  2.30693817,\n",
       "       -0.16188747, -0.5961442 , -0.17425326,  0.57430512, -0.90322316,\n",
       "       -0.88464856,  0.04017348,  2.922544  , -1.19536281,  0.63243413,\n",
       "        0.395511  , -0.64077216, -0.46556357,  0.09204973,  0.15850078], dtype=float32)"
      ]
     },
     "execution_count": 39,
     "metadata": {},
     "output_type": "execute_result"
    }
   ],
   "source": [
    "model.wv[u'hello']"
   ]
  },
  {
   "cell_type": "code",
   "execution_count": null,
   "metadata": {
    "collapsed": true
   },
   "outputs": [],
   "source": []
  }
 ],
 "metadata": {
  "kernelspec": {
   "display_name": "Python [Root]",
   "language": "python",
   "name": "Python [Root]"
  },
  "language_info": {
   "codemirror_mode": {
    "name": "ipython",
    "version": 2
   },
   "file_extension": ".py",
   "mimetype": "text/x-python",
   "name": "python",
   "nbconvert_exporter": "python",
   "pygments_lexer": "ipython2",
   "version": "2.7.12"
  }
 },
 "nbformat": 4,
 "nbformat_minor": 0
}
